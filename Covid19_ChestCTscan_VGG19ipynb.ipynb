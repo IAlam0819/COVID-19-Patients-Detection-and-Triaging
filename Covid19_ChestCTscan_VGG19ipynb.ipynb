{
  "nbformat": 4,
  "nbformat_minor": 0,
  "metadata": {
    "colab": {
      "name": "Covid19_ChestCTscan_VGG19ipynb",
      "provenance": [],
      "collapsed_sections": [],
      "authorship_tag": "ABX9TyO+zw+hdILmGemv7ptdZFQa",
      "include_colab_link": true
    },
    "kernelspec": {
      "name": "python3",
      "display_name": "Python 3"
    },
    "accelerator": "GPU"
  },
  "cells": [
    {
      "cell_type": "markdown",
      "metadata": {
        "id": "view-in-github",
        "colab_type": "text"
      },
      "source": [
        "<a href=\"https://colab.research.google.com/github/IAlam0819/COVID-19-Patients-Detection-and-Triaging/blob/main/Covid19_ChestCTscan_VGG19ipynb.ipynb\" target=\"_parent\"><img src=\"https://colab.research.google.com/assets/colab-badge.svg\" alt=\"Open In Colab\"/></a>"
      ]
    },
    {
      "cell_type": "code",
      "metadata": {
        "id": "E9IrF6SHC6re",
        "colab": {
          "base_uri": "https://localhost:8080/",
          "height": 34
        },
        "outputId": "74d126a4-26c4-4baf-b4d4-8d317ae3dcfc"
      },
      "source": [
        "from google.colab import drive\n",
        "drive.mount('/content/drive')"
      ],
      "execution_count": null,
      "outputs": [
        {
          "output_type": "stream",
          "text": [
            "Mounted at /content/drive\n"
          ],
          "name": "stdout"
        }
      ]
    },
    {
      "cell_type": "code",
      "metadata": {
        "id": "I-qRDx18DEZM",
        "colab": {
          "base_uri": "https://localhost:8080/",
          "height": 34
        },
        "outputId": "9b4b666d-3616-4423-fa03-720b5942464b"
      },
      "source": [
        "%tensorflow_version 2.x\n",
        "import tensorflow as tf\n",
        "device_name = tf.test.gpu_device_name()\n",
        "if device_name != '/device:GPU:0':\n",
        "  raise SystemError('GPU device not found')\n",
        "print('Found GPU at: {}'.format(device_name))"
      ],
      "execution_count": null,
      "outputs": [
        {
          "output_type": "stream",
          "text": [
            "Found GPU at: /device:GPU:0\n"
          ],
          "name": "stdout"
        }
      ]
    },
    {
      "cell_type": "code",
      "metadata": {
        "id": "cwJvEnCiDMBF"
      },
      "source": [
        "from keras.layers import Input, Lambda, Dense, Flatten\n",
        "from keras.models import Model\n",
        "from keras.applications.vgg19 import VGG19\n",
        "from keras.applications.vgg16 import preprocess_input\n",
        "from keras.preprocessing import image\n",
        "from keras.preprocessing.image import ImageDataGenerator\n",
        "from keras.models import Sequential\n",
        "import numpy as np\n",
        "from glob import glob\n",
        "import matplotlib.pyplot as plt\n",
        "%matplotlib inline"
      ],
      "execution_count": null,
      "outputs": []
    },
    {
      "cell_type": "code",
      "metadata": {
        "id": "mq9v7me0DapU"
      },
      "source": [
        "# re-size all the images to this\n",
        "IMAGE_SIZE = [224, 224]"
      ],
      "execution_count": null,
      "outputs": []
    },
    {
      "cell_type": "code",
      "metadata": {
        "id": "eF_QXvDhDbga",
        "colab": {
          "base_uri": "https://localhost:8080/",
          "height": 52
        },
        "outputId": "bd40e972-ef60-4fb0-80e7-c529d8a138d3"
      },
      "source": [
        "# add preprocessing layer to the front of VGG\n",
        "vgg = VGG19(input_shape=IMAGE_SIZE + [3], weights='imagenet', include_top=False)"
      ],
      "execution_count": null,
      "outputs": [
        {
          "output_type": "stream",
          "text": [
            "Downloading data from https://storage.googleapis.com/tensorflow/keras-applications/vgg19/vgg19_weights_tf_dim_ordering_tf_kernels_notop.h5\n",
            "80142336/80134624 [==============================] - 1s 0us/step\n"
          ],
          "name": "stdout"
        }
      ]
    },
    {
      "cell_type": "code",
      "metadata": {
        "id": "7exzCTM6DsKx"
      },
      "source": [
        "# don't train existing weights\n",
        "for layer in vgg.layers:\n",
        "  layer.trainable = False"
      ],
      "execution_count": null,
      "outputs": []
    },
    {
      "cell_type": "code",
      "metadata": {
        "id": "FO4JJvybDzZn"
      },
      "source": [
        "x = Flatten()(vgg.output)\n",
        "x = Dense(64, activation='relu')(x)\n",
        "prediction = Dense(1, activation='sigmoid')(x)"
      ],
      "execution_count": null,
      "outputs": []
    },
    {
      "cell_type": "code",
      "metadata": {
        "id": "BEQ-9qusEC6A"
      },
      "source": [
        "# create a model object\n",
        "model = Model(inputs=vgg.input, outputs=prediction)"
      ],
      "execution_count": null,
      "outputs": []
    },
    {
      "cell_type": "code",
      "metadata": {
        "id": "lKFcTM81EHY7",
        "colab": {
          "base_uri": "https://localhost:8080/",
          "height": 1000
        },
        "outputId": "1d7d70a1-8175-4c7c-d006-bb994147411c"
      },
      "source": [
        "# view the structure of the model\n",
        "model.summary()"
      ],
      "execution_count": null,
      "outputs": [
        {
          "output_type": "stream",
          "text": [
            "Model: \"functional_1\"\n",
            "_________________________________________________________________\n",
            "Layer (type)                 Output Shape              Param #   \n",
            "=================================================================\n",
            "input_1 (InputLayer)         [(None, 224, 224, 3)]     0         \n",
            "_________________________________________________________________\n",
            "block1_conv1 (Conv2D)        (None, 224, 224, 64)      1792      \n",
            "_________________________________________________________________\n",
            "block1_conv2 (Conv2D)        (None, 224, 224, 64)      36928     \n",
            "_________________________________________________________________\n",
            "block1_pool (MaxPooling2D)   (None, 112, 112, 64)      0         \n",
            "_________________________________________________________________\n",
            "block2_conv1 (Conv2D)        (None, 112, 112, 128)     73856     \n",
            "_________________________________________________________________\n",
            "block2_conv2 (Conv2D)        (None, 112, 112, 128)     147584    \n",
            "_________________________________________________________________\n",
            "block2_pool (MaxPooling2D)   (None, 56, 56, 128)       0         \n",
            "_________________________________________________________________\n",
            "block3_conv1 (Conv2D)        (None, 56, 56, 256)       295168    \n",
            "_________________________________________________________________\n",
            "block3_conv2 (Conv2D)        (None, 56, 56, 256)       590080    \n",
            "_________________________________________________________________\n",
            "block3_conv3 (Conv2D)        (None, 56, 56, 256)       590080    \n",
            "_________________________________________________________________\n",
            "block3_conv4 (Conv2D)        (None, 56, 56, 256)       590080    \n",
            "_________________________________________________________________\n",
            "block3_pool (MaxPooling2D)   (None, 28, 28, 256)       0         \n",
            "_________________________________________________________________\n",
            "block4_conv1 (Conv2D)        (None, 28, 28, 512)       1180160   \n",
            "_________________________________________________________________\n",
            "block4_conv2 (Conv2D)        (None, 28, 28, 512)       2359808   \n",
            "_________________________________________________________________\n",
            "block4_conv3 (Conv2D)        (None, 28, 28, 512)       2359808   \n",
            "_________________________________________________________________\n",
            "block4_conv4 (Conv2D)        (None, 28, 28, 512)       2359808   \n",
            "_________________________________________________________________\n",
            "block4_pool (MaxPooling2D)   (None, 14, 14, 512)       0         \n",
            "_________________________________________________________________\n",
            "block5_conv1 (Conv2D)        (None, 14, 14, 512)       2359808   \n",
            "_________________________________________________________________\n",
            "block5_conv2 (Conv2D)        (None, 14, 14, 512)       2359808   \n",
            "_________________________________________________________________\n",
            "block5_conv3 (Conv2D)        (None, 14, 14, 512)       2359808   \n",
            "_________________________________________________________________\n",
            "block5_conv4 (Conv2D)        (None, 14, 14, 512)       2359808   \n",
            "_________________________________________________________________\n",
            "block5_pool (MaxPooling2D)   (None, 7, 7, 512)         0         \n",
            "_________________________________________________________________\n",
            "flatten (Flatten)            (None, 25088)             0         \n",
            "_________________________________________________________________\n",
            "dense (Dense)                (None, 64)                1605696   \n",
            "_________________________________________________________________\n",
            "dense_1 (Dense)              (None, 1)                 65        \n",
            "=================================================================\n",
            "Total params: 21,630,145\n",
            "Trainable params: 1,605,761\n",
            "Non-trainable params: 20,024,384\n",
            "_________________________________________________________________\n"
          ],
          "name": "stdout"
        }
      ]
    },
    {
      "cell_type": "code",
      "metadata": {
        "id": "3VSEUWmEEKRE"
      },
      "source": [
        "from tensorflow.keras.optimizers import RMSprop\n",
        "model.compile(\n",
        "  loss='binary_crossentropy',\n",
        "  optimizer=RMSprop(lr=0.001),\n",
        "  metrics=['accuracy']\n",
        ")"
      ],
      "execution_count": null,
      "outputs": []
    },
    {
      "cell_type": "code",
      "metadata": {
        "id": "MQhLub3YEOYO",
        "colab": {
          "base_uri": "https://localhost:8080/",
          "height": 52
        },
        "outputId": "35ef6c4b-69ae-401b-8fd9-db8dbbb35d4c"
      },
      "source": [
        "from tensorflow.keras.preprocessing.image import ImageDataGenerator\n",
        "\n",
        "# All images will be rescaled by 1./255\n",
        "train_datagen = ImageDataGenerator(rescale=1/255)\n",
        "validation_datagen = ImageDataGenerator(rescale=1/255)\n",
        "\n",
        "# Flow training images in batches of 128 using train_datagen generator\n",
        "train_generator = train_datagen.flow_from_directory(\n",
        "        '/content/drive/My Drive/CT_Scan_DataSet/Training',  # This is the source directory for training images\n",
        "        target_size=(224, 224), \n",
        "        batch_size=64,\n",
        "        # Since we use binary_crossentropy loss, we need binary labels\n",
        "        class_mode='binary')\n",
        "\n",
        "# Flow training images in batches of 128 using train_datagen generator\n",
        "validation_generator = validation_datagen.flow_from_directory(\n",
        "        '/content/drive/My Drive/CT_Scan_DataSet/Validation',  # This is the source directory for training images\n",
        "        target_size=(224, 224),  \n",
        "        batch_size=32,\n",
        "        # Since we use binary_crossentropy loss, we need binary labels\n",
        "        class_mode='binary')"
      ],
      "execution_count": null,
      "outputs": [
        {
          "output_type": "stream",
          "text": [
            "Found 610 images belonging to 2 classes.\n",
            "Found 100 images belonging to 2 classes.\n"
          ],
          "name": "stdout"
        }
      ]
    },
    {
      "cell_type": "code",
      "metadata": {
        "id": "cJFuiE4rESTD",
        "colab": {
          "base_uri": "https://localhost:8080/",
          "height": 1000
        },
        "outputId": "3d8cbbbb-c732-4062-d2f4-2dea1450dc74"
      },
      "source": [
        "r = model.fit(\n",
        "  train_generator,\n",
        "  validation_data=validation_generator,\n",
        "  epochs=50,\n",
        "  steps_per_epoch=len(train_generator),\n",
        "  validation_steps=len(validation_generator)\n",
        ")"
      ],
      "execution_count": null,
      "outputs": [
        {
          "output_type": "stream",
          "text": [
            "Epoch 1/50\n",
            "10/10 [==============================] - 14s 1s/step - loss: 0.7865 - accuracy: 0.8836 - val_loss: 0.7735 - val_accuracy: 0.7800\n",
            "Epoch 2/50\n",
            "10/10 [==============================] - 6s 621ms/step - loss: 0.0335 - accuracy: 0.9984 - val_loss: 0.7148 - val_accuracy: 0.7800\n",
            "Epoch 3/50\n",
            "10/10 [==============================] - 6s 618ms/step - loss: 0.0463 - accuracy: 0.9902 - val_loss: 4.4238 - val_accuracy: 0.5000\n",
            "Epoch 4/50\n",
            "10/10 [==============================] - 6s 639ms/step - loss: 0.5925 - accuracy: 0.8836 - val_loss: 0.5645 - val_accuracy: 0.7500\n",
            "Epoch 5/50\n",
            "10/10 [==============================] - 6s 632ms/step - loss: 0.3348 - accuracy: 0.8820 - val_loss: 1.0198 - val_accuracy: 0.6400\n",
            "Epoch 6/50\n",
            "10/10 [==============================] - 6s 637ms/step - loss: 0.0734 - accuracy: 0.9787 - val_loss: 0.5994 - val_accuracy: 0.7600\n",
            "Epoch 7/50\n",
            "10/10 [==============================] - 6s 628ms/step - loss: 0.5095 - accuracy: 0.7820 - val_loss: 0.6257 - val_accuracy: 0.7800\n",
            "Epoch 8/50\n",
            "10/10 [==============================] - 6s 633ms/step - loss: 0.0672 - accuracy: 0.9852 - val_loss: 0.6279 - val_accuracy: 0.7600\n",
            "Epoch 9/50\n",
            "10/10 [==============================] - 6s 624ms/step - loss: 0.1142 - accuracy: 0.9541 - val_loss: 2.6081 - val_accuracy: 0.5300\n",
            "Epoch 10/50\n",
            "10/10 [==============================] - 6s 641ms/step - loss: 0.3492 - accuracy: 0.8820 - val_loss: 0.6164 - val_accuracy: 0.7400\n",
            "Epoch 11/50\n",
            "10/10 [==============================] - 6s 629ms/step - loss: 0.0261 - accuracy: 1.0000 - val_loss: 0.6537 - val_accuracy: 0.7700\n",
            "Epoch 12/50\n",
            "10/10 [==============================] - 6s 634ms/step - loss: 0.0284 - accuracy: 0.9984 - val_loss: 1.1086 - val_accuracy: 0.6700\n",
            "Epoch 13/50\n",
            "10/10 [==============================] - 6s 624ms/step - loss: 0.4974 - accuracy: 0.8820 - val_loss: 0.7923 - val_accuracy: 0.7700\n",
            "Epoch 14/50\n",
            "10/10 [==============================] - 6s 635ms/step - loss: 0.0163 - accuracy: 1.0000 - val_loss: 0.8045 - val_accuracy: 0.7700\n",
            "Epoch 15/50\n",
            "10/10 [==============================] - 6s 649ms/step - loss: 0.0143 - accuracy: 1.0000 - val_loss: 0.7636 - val_accuracy: 0.7700\n",
            "Epoch 16/50\n",
            "10/10 [==============================] - 6s 638ms/step - loss: 0.0125 - accuracy: 1.0000 - val_loss: 0.9252 - val_accuracy: 0.7500\n",
            "Epoch 17/50\n",
            "10/10 [==============================] - 6s 628ms/step - loss: 0.4525 - accuracy: 0.9213 - val_loss: 0.6859 - val_accuracy: 0.7600\n",
            "Epoch 18/50\n",
            "10/10 [==============================] - 6s 625ms/step - loss: 0.0198 - accuracy: 1.0000 - val_loss: 0.7752 - val_accuracy: 0.7700\n",
            "Epoch 19/50\n",
            "10/10 [==============================] - 6s 634ms/step - loss: 0.0097 - accuracy: 1.0000 - val_loss: 0.8604 - val_accuracy: 0.7700\n",
            "Epoch 20/50\n",
            "10/10 [==============================] - 6s 630ms/step - loss: 0.0748 - accuracy: 0.9623 - val_loss: 5.0378 - val_accuracy: 0.5000\n",
            "Epoch 21/50\n",
            "10/10 [==============================] - 7s 652ms/step - loss: 0.2877 - accuracy: 0.9672 - val_loss: 0.7668 - val_accuracy: 0.7700\n",
            "Epoch 22/50\n",
            "10/10 [==============================] - 6s 631ms/step - loss: 0.0110 - accuracy: 1.0000 - val_loss: 0.8028 - val_accuracy: 0.7700\n",
            "Epoch 23/50\n",
            "10/10 [==============================] - 6s 640ms/step - loss: 0.0168 - accuracy: 1.0000 - val_loss: 0.9560 - val_accuracy: 0.7300\n",
            "Epoch 24/50\n",
            "10/10 [==============================] - 6s 628ms/step - loss: 0.5320 - accuracy: 0.8787 - val_loss: 0.8292 - val_accuracy: 0.7500\n",
            "Epoch 25/50\n",
            "10/10 [==============================] - 6s 618ms/step - loss: 0.0058 - accuracy: 1.0000 - val_loss: 0.8762 - val_accuracy: 0.7700\n",
            "Epoch 26/50\n",
            "10/10 [==============================] - 6s 639ms/step - loss: 0.0050 - accuracy: 1.0000 - val_loss: 0.8815 - val_accuracy: 0.7700\n",
            "Epoch 27/50\n",
            "10/10 [==============================] - 6s 625ms/step - loss: 0.0045 - accuracy: 1.0000 - val_loss: 0.9060 - val_accuracy: 0.7700\n",
            "Epoch 28/50\n",
            "10/10 [==============================] - 6s 630ms/step - loss: 0.0031 - accuracy: 1.0000 - val_loss: 0.9420 - val_accuracy: 0.7500\n",
            "Epoch 29/50\n",
            "10/10 [==============================] - 6s 627ms/step - loss: 0.4685 - accuracy: 0.9262 - val_loss: 0.8336 - val_accuracy: 0.7700\n",
            "Epoch 30/50\n",
            "10/10 [==============================] - 6s 646ms/step - loss: 0.0052 - accuracy: 1.0000 - val_loss: 0.8958 - val_accuracy: 0.7700\n",
            "Epoch 31/50\n",
            "10/10 [==============================] - 6s 624ms/step - loss: 0.0035 - accuracy: 1.0000 - val_loss: 0.9516 - val_accuracy: 0.7700\n",
            "Epoch 32/50\n",
            "10/10 [==============================] - 6s 622ms/step - loss: 0.0028 - accuracy: 1.0000 - val_loss: 0.9514 - val_accuracy: 0.7500\n",
            "Epoch 33/50\n",
            "10/10 [==============================] - 6s 632ms/step - loss: 0.0026 - accuracy: 1.0000 - val_loss: 1.0453 - val_accuracy: 0.7500\n",
            "Epoch 34/50\n",
            "10/10 [==============================] - 6s 635ms/step - loss: 0.0026 - accuracy: 1.0000 - val_loss: 1.1639 - val_accuracy: 0.7200\n",
            "Epoch 35/50\n",
            "10/10 [==============================] - 6s 606ms/step - loss: 0.6174 - accuracy: 0.8820 - val_loss: 0.9026 - val_accuracy: 0.7700\n",
            "Epoch 36/50\n",
            "10/10 [==============================] - 6s 641ms/step - loss: 0.0036 - accuracy: 1.0000 - val_loss: 0.9076 - val_accuracy: 0.7700\n",
            "Epoch 37/50\n",
            "10/10 [==============================] - 6s 647ms/step - loss: 0.0032 - accuracy: 1.0000 - val_loss: 0.9264 - val_accuracy: 0.7700\n",
            "Epoch 38/50\n",
            "10/10 [==============================] - 6s 624ms/step - loss: 0.0029 - accuracy: 1.0000 - val_loss: 0.9437 - val_accuracy: 0.7700\n",
            "Epoch 39/50\n",
            "10/10 [==============================] - 6s 632ms/step - loss: 0.0026 - accuracy: 1.0000 - val_loss: 0.9856 - val_accuracy: 0.7600\n",
            "Epoch 40/50\n",
            "10/10 [==============================] - 6s 627ms/step - loss: 0.4770 - accuracy: 0.9000 - val_loss: 0.8979 - val_accuracy: 0.7700\n",
            "Epoch 41/50\n",
            "10/10 [==============================] - 6s 631ms/step - loss: 0.0040 - accuracy: 1.0000 - val_loss: 0.9485 - val_accuracy: 0.7600\n",
            "Epoch 42/50\n",
            "10/10 [==============================] - 6s 640ms/step - loss: 0.0028 - accuracy: 1.0000 - val_loss: 0.9738 - val_accuracy: 0.7700\n",
            "Epoch 43/50\n",
            "10/10 [==============================] - 6s 643ms/step - loss: 0.0019 - accuracy: 1.0000 - val_loss: 1.0640 - val_accuracy: 0.7600\n",
            "Epoch 44/50\n",
            "10/10 [==============================] - 6s 624ms/step - loss: 0.0015 - accuracy: 1.0000 - val_loss: 1.0688 - val_accuracy: 0.7700\n",
            "Epoch 45/50\n",
            "10/10 [==============================] - 6s 617ms/step - loss: 0.0012 - accuracy: 1.0000 - val_loss: 1.1009 - val_accuracy: 0.7700\n",
            "Epoch 46/50\n",
            "10/10 [==============================] - 6s 626ms/step - loss: 0.6544 - accuracy: 0.8869 - val_loss: 1.0033 - val_accuracy: 0.7500\n",
            "Epoch 47/50\n",
            "10/10 [==============================] - 6s 625ms/step - loss: 0.0052 - accuracy: 1.0000 - val_loss: 0.9829 - val_accuracy: 0.7600\n",
            "Epoch 48/50\n",
            "10/10 [==============================] - 6s 629ms/step - loss: 0.0020 - accuracy: 1.0000 - val_loss: 1.0212 - val_accuracy: 0.7700\n",
            "Epoch 49/50\n",
            "10/10 [==============================] - 6s 640ms/step - loss: 0.0015 - accuracy: 1.0000 - val_loss: 1.0545 - val_accuracy: 0.7600\n",
            "Epoch 50/50\n",
            "10/10 [==============================] - 6s 627ms/step - loss: 0.0012 - accuracy: 1.0000 - val_loss: 1.0803 - val_accuracy: 0.7600\n"
          ],
          "name": "stdout"
        }
      ]
    },
    {
      "cell_type": "code",
      "metadata": {
        "id": "UrDXE3hiIp-l"
      },
      "source": [
        "pred = model.predict_generator(validation_generator)\n",
        "test = validation_generator.classes"
      ],
      "execution_count": null,
      "outputs": []
    },
    {
      "cell_type": "code",
      "metadata": {
        "id": "H-Q9H1EtIqrr"
      },
      "source": [
        "for index, item in enumerate(pred):\n",
        "  if (item > 0.5):\n",
        "    pred[index] = 1\n",
        "  else:\n",
        "    pred[index] = 0"
      ],
      "execution_count": null,
      "outputs": []
    },
    {
      "cell_type": "code",
      "metadata": {
        "id": "myBSOKfaItIT",
        "colab": {
          "base_uri": "https://localhost:8080/",
          "height": 52
        },
        "outputId": "8eb75425-c695-49ae-d244-10c820014a58"
      },
      "source": [
        "from sklearn.metrics import accuracy_score,confusion_matrix\n",
        "#confusion_matrix\n",
        "conf_matrix = confusion_matrix(test, pred)\n",
        "print(conf_matrix)"
      ],
      "execution_count": null,
      "outputs": [
        {
          "output_type": "stream",
          "text": [
            "[[17 33]\n",
            " [21 29]]\n"
          ],
          "name": "stdout"
        }
      ]
    },
    {
      "cell_type": "code",
      "metadata": {
        "id": "ArHiW8hoIwD0",
        "colab": {
          "base_uri": "https://localhost:8080/",
          "height": 34
        },
        "outputId": "498a81c1-bc33-4fbb-c7a9-48e47f34c1bb"
      },
      "source": [
        "#accuracy_score of the model\n",
        "accuracy = accuracy_score(test, pred)\n",
        "print(accuracy)"
      ],
      "execution_count": null,
      "outputs": [
        {
          "output_type": "stream",
          "text": [
            "0.46\n"
          ],
          "name": "stdout"
        }
      ]
    },
    {
      "cell_type": "code",
      "metadata": {
        "id": "-2zAJ0lJI04J",
        "colab": {
          "base_uri": "https://localhost:8080/",
          "height": 173
        },
        "outputId": "299211da-4cc0-4b0d-9f37-f2929130b2cd"
      },
      "source": [
        "#classification report\n",
        "from sklearn.metrics import classification_report\n",
        "report = classification_report(test, pred)\n",
        "print(report)"
      ],
      "execution_count": null,
      "outputs": [
        {
          "output_type": "stream",
          "text": [
            "              precision    recall  f1-score   support\n",
            "\n",
            "           0       0.51      0.40      0.45        50\n",
            "           1       0.51      0.62      0.56        50\n",
            "\n",
            "    accuracy                           0.51       100\n",
            "   macro avg       0.51      0.51      0.50       100\n",
            "weighted avg       0.51      0.51      0.50       100\n",
            "\n"
          ],
          "name": "stdout"
        }
      ]
    },
    {
      "cell_type": "code",
      "metadata": {
        "id": "1y8cwow4I5s5",
        "colab": {
          "base_uri": "https://localhost:8080/",
          "height": 298
        },
        "outputId": "6ad98d56-ee7c-42da-bc17-9fda298bddc9"
      },
      "source": [
        "# loss\n",
        "plt.plot(r.history['loss'], label='train loss')\n",
        "plt.plot(r.history['val_loss'], label='val loss')\n",
        "plt.title('Training and Validation loss')\n",
        "plt.legend()\n",
        "plt.show()\n",
        "plt.savefig('LossVal_loss')"
      ],
      "execution_count": null,
      "outputs": [
        {
          "output_type": "display_data",
          "data": {
            "image/png": "[encoded data removed]",
            "text/plain": [
              "<Figure size 432x288 with 1 Axes>"
            ]
          },
          "metadata": {
            "tags": [],
            "needs_background": "light"
          }
        },
        {
          "output_type": "display_data",
          "data": {
            "text/plain": [
              "<Figure size 432x288 with 0 Axes>"
            ]
          },
          "metadata": {
            "tags": []
          }
        }
      ]
    },
    {
      "cell_type": "code",
      "metadata": {
        "id": "hNPKtCHEJLJ7",
        "colab": {
          "base_uri": "https://localhost:8080/",
          "height": 298
        },
        "outputId": "a16f0d40-13ff-4d50-eb95-420c80467a24"
      },
      "source": [
        "# accuracies\n",
        "plt.plot(r.history['accuracy'], label='train acc')\n",
        "plt.plot(r.history['val_accuracy'], label='val acc')\n",
        "plt.title('Training and Validation accuracy')\n",
        "plt.legend()\n",
        "plt.show()\n",
        "plt.savefig('AccVal_acc')"
      ],
      "execution_count": null,
      "outputs": [
        {
          "output_type": "display_data",
          "data": {
            "image/png": "[encoded data removed]",
            "text/plain": [
              "<Figure size 432x288 with 1 Axes>"
            ]
          },
          "metadata": {
            "tags": [],
            "needs_background": "light"
          }
        },
        {
          "output_type": "display_data",
          "data": {
            "text/plain": [
              "<Figure size 432x288 with 0 Axes>"
            ]
          },
          "metadata": {
            "tags": []
          }
        }
      ]
    }
  ]
}